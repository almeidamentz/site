{
 "cells": [
  {
   "cell_type": "code",
   "execution_count": 1,
   "id": "3966300e-7285-49fe-b4b3-dd3a007d47be",
   "metadata": {},
   "outputs": [
    {
     "name": "stdout",
     "output_type": "stream",
     "text": [
      " * Serving Flask app '__main__'\n",
      " * Debug mode: off\n"
     ]
    },
    {
     "name": "stderr",
     "output_type": "stream",
     "text": [
      "WARNING: This is a development server. Do not use it in a production deployment. Use a production WSGI server instead.\n",
      " * Running on all addresses (0.0.0.0)\n",
      " * Running on http://127.0.0.1:5000\n",
      " * Running on http://10.48.10.45:5000\n",
      "Press CTRL+C to quit\n",
      "10.48.10.45 - - [28/Oct/2024 14:59:02] \"GET / HTTP/1.1\" 200 -\n",
      "10.48.10.45 - - [28/Oct/2024 14:59:02] \"GET /favicon.ico HTTP/1.1\" 404 -\n"
     ]
    }
   ],
   "source": [
    "from flask import Flask, render_template_string\n",
    "from threading import Thread\n",
    "\n",
    "# Definindo o aplicativo Flask\n",
    "app = Flask(__name__)\n",
    "\n",
    "# Definindo uma rota simples\n",
    "@app.route(\"/\")\n",
    "def home():\n",
    "    return render_template_string(\"\"\"\n",
    "    <!DOCTYPE html>\n",
    "    <html lang=\"pt-BR\">\n",
    "    <head>\n",
    "        <meta charset=\"UTF-8\">\n",
    "        <meta name=\"viewport\" content=\"width=device-width, initial-scale=1.0\">\n",
    "        <title>Meu Site no Notebook</title>\n",
    "        <style>\n",
    "            body {\n",
    "                font-family: Arial, sans-serif;\n",
    "                margin: 0;\n",
    "                padding: 0;\n",
    "                text-align: center;\n",
    "                background-color: #f0f0f0;\n",
    "            }\n",
    "            header {\n",
    "                background-color: #333;\n",
    "                color: white;\n",
    "                padding: 2em;\n",
    "            }\n",
    "            h1 {\n",
    "                margin: 0;\n",
    "                font-size: 2.5em;\n",
    "            }\n",
    "        </style>\n",
    "    </head>\n",
    "    <body>\n",
    "        <header>\n",
    "            <h1>Bem-vindo ao Meu Site no Notebook!</h1>\n",
    "            <p>Este é um site simples feito em Flask e Python no Jupyter Notebook.</p>\n",
    "        </header>\n",
    "    </body>\n",
    "    </html>\n",
    "    \"\"\")\n",
    "\n",
    "# Função para rodar o app Flask em uma thread\n",
    "def run_app():\n",
    "    app.run(host=\"0.0.0.0\", port=5000)\n",
    "\n",
    "# Iniciar o servidor Flask em segundo plano\n",
    "thread = Thread(target=run_app)\n",
    "thread.start()\n"
   ]
  },
  {
   "cell_type": "code",
   "execution_count": null,
   "id": "e8affb96-7fc7-4b03-b87f-aa57a10c28e1",
   "metadata": {},
   "outputs": [],
   "source": []
  }
 ],
 "metadata": {
  "kernelspec": {
   "display_name": "Python 3 (ipykernel)",
   "language": "python",
   "name": "python3"
  },
  "language_info": {
   "codemirror_mode": {
    "name": "ipython",
    "version": 3
   },
   "file_extension": ".py",
   "mimetype": "text/x-python",
   "name": "python",
   "nbconvert_exporter": "python",
   "pygments_lexer": "ipython3",
   "version": "3.12.4"
  }
 },
 "nbformat": 4,
 "nbformat_minor": 5
}
